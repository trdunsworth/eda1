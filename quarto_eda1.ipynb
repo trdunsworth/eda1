{
 "cells": [
  {
   "cell_type": "raw",
   "id": "aa996231-12c9-4097-ae7e-4d96119f7b7c",
   "metadata": {},
   "source": [
    "---\n",
    "title: \"An Introduction to Exploratory Data Analysis in Python for 9-1-1 Centers\"\n",
    "date: 2024-03-26\n",
    "author:\n",
    "  - name: Tony Dunsworth\n",
    "    id: tony.dunsworth\n",
    "    orcid: 0000-0002-8883-5752\n",
    "    email: tony.dunsworth@alexandriava.gov\n",
    "    affiliation: \n",
    "      - name: City of Alexandria\n",
    "        city: Alexandria\n",
    "        state: VA\n",
    "        url: www.alexandriava.gov\n",
    "jupyter: \"python310\"\n",
    "format: \n",
    "    html:\n",
    "        code-fold: true\n",
    "        toc:true\n",
    "        toc-location: left\n",
    "        smooth-scroll: true\n",
    "        link-external-icon: true\n",
    "        link-external-newwindow: true\n",
    "keywords:\n",
    "  - Exploratory Data Analysis\n",
    "  - Public Safety\n",
    "  - 9-1-1 Center\n",
    "license: \"CC BY\"\n",
    "copyright: \n",
    "  holder: Tony Dunsworth\n",
    "  year: 2024\n",
    "\n"
   ]
  },
  {
   "cell_type": "markdown",
   "id": "46e550b4-f665-48ad-a26a-68321c169fdf",
   "metadata": {},
   "source": [
    "# Exploratory Data Analysis for 9-1-1 Centers\n",
    "Tony Dunsworth\n",
    "City of Alexandria"
   ]
  },
  {
   "cell_type": "markdown",
   "id": "f884d689-6834-4300-ae20-2e03ab5a283f",
   "metadata": {},
   "source": [
    "### The purpose\n",
    "Exploratory Data Analysis was first described by Dr. John Tukey in his work <u>Exploratory Data Analysis</u> published in 1977. The concept is to explore"
   ]
  }
 ],
 "metadata": {
  "kernelspec": {
   "display_name": "Python 3 (ipykernel)",
   "language": "python",
   "name": "python3"
  },
  "language_info": {
   "codemirror_mode": {
    "name": "ipython",
    "version": 3
   },
   "file_extension": ".py",
   "mimetype": "text/x-python",
   "name": "python",
   "nbconvert_exporter": "python",
   "pygments_lexer": "ipython3",
   "version": "3.10.12"
  }
 },
 "nbformat": 4,
 "nbformat_minor": 5
}
